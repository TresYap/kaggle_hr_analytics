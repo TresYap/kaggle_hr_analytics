{
 "cells": [
  {
   "cell_type": "code",
   "execution_count": 1,
   "metadata": {},
   "outputs": [],
   "source": [
    "import pandas as pd\n",
    "import numpy as np\n",
    "import matplotlib.pyplot as plt\n",
    "import seaborn as sns\n",
    "from sklearn.impute import SimpleImputer\n",
    "from sklearn.model_selection import train_test_split\n",
    "\n",
    "sns.set_style('dark')"
   ]
  },
  {
   "cell_type": "code",
   "execution_count": 2,
   "metadata": {},
   "outputs": [],
   "source": [
    "data = pd.read_csv('data/aug_train.csv')\n",
    "train, test = train_test_split(data, test_size=0.2, random_state=42)"
   ]
  },
  {
   "cell_type": "code",
   "execution_count": 3,
   "metadata": {},
   "outputs": [],
   "source": [
    "def encode(data):\n",
    "    data['relevant_experience'] = data.relevent_experience.map({'Has relevent experience':1, 'No relevent experience': 0})\n",
    "    \n",
    "    education_map = {\n",
    "        \"Primary School\": 0,\n",
    "        \"High School\": 1,\n",
    "        \"Graduate\": 2,\n",
    "        \"Masters\": 3,\n",
    "        \"Phd\": 4\n",
    "                 }\n",
    "    \n",
    "    size_map = {\n",
    "        \"<10\": 0,\n",
    "        \"10/49\": 1,\n",
    "        \"50-99\": 2,\n",
    "        \"100-500\": 3,\n",
    "        \"500-999\": 4,\n",
    "        \"1000-4999\": 5,\n",
    "        \"5000-9999\": 6,\n",
    "        \"10000+\": 7\n",
    "    }\n",
    "    \n",
    "    experience_map = {\n",
    "        '<1':0,\n",
    "        '>20':21\n",
    "    }\n",
    "    \n",
    "    last_new_job_map = {\n",
    "        'never': 0,\n",
    "        '>4': 5\n",
    "    }\n",
    "    \n",
    "    data['education_level'] = data.education_level.map(education_map)\n",
    "    data['company_size'] = data.company_size.map(size_map)\n",
    "    data['experience'] = pd.to_numeric(data.experience.map(experience_map))\n",
    "    data['last_new_job'] = pd.to_numeric(data.last_new_job.map(last_new_job_map))\n",
    "    data.drop('relevent_experience', axis=1, inplace=True)\n",
    "    \n",
    "def impute(train):\n",
    "    imp_mean = SimpleImputer(missing_values=np.nan, strategy='median', copy=False)\n",
    "    clean_train = pd.DataFrame(imp_mean.fit_transform(train), columns=train.columns.tolist())\n",
    "    return clean_train"
   ]
  },
  {
   "cell_type": "code",
   "execution_count": 4,
   "metadata": {},
   "outputs": [],
   "source": [
    "#drop useless columns\n",
    "train = train.drop(['city', 'enrolled_university', 'gender', \"major_discipline\", \"company_type\"], axis=1)\n",
    "#feature_engineering\n",
    "clean_train = encode(train)\n",
    "clean_train = impute(train)"
   ]
  },
  {
   "cell_type": "code",
   "execution_count": 5,
   "metadata": {},
   "outputs": [],
   "source": [
    "X_train = clean_train.drop(['enrollee_id', 'target'], axis=1)\n",
    "y_train = clean_train.target"
   ]
  },
  {
   "cell_type": "code",
   "execution_count": 6,
   "metadata": {},
   "outputs": [
    {
     "data": {
      "text/plain": [
       "(15326, 7)"
      ]
     },
     "execution_count": 6,
     "metadata": {},
     "output_type": "execute_result"
    }
   ],
   "source": [
    "X_train.shape"
   ]
  },
  {
   "cell_type": "markdown",
   "metadata": {},
   "source": [
    "### Basic SMOTE"
   ]
  },
  {
   "cell_type": "code",
   "execution_count": 7,
   "metadata": {},
   "outputs": [],
   "source": [
    "from imblearn.over_sampling import SMOTE\n",
    "over = SMOTE(k_neighbors=5)\n",
    "X_train, y_train = over.fit_resample(X_train, y_train)"
   ]
  },
  {
   "cell_type": "code",
   "execution_count": 8,
   "metadata": {},
   "outputs": [
    {
     "data": {
      "text/plain": [
       "(23002, 7)"
      ]
     },
     "execution_count": 8,
     "metadata": {},
     "output_type": "execute_result"
    }
   ],
   "source": [
    "X_train.shape"
   ]
  },
  {
   "cell_type": "code",
   "execution_count": 9,
   "metadata": {},
   "outputs": [
    {
     "name": "stdout",
     "output_type": "stream",
     "text": [
      "0.8215813543959272\n"
     ]
    }
   ],
   "source": [
    "from sklearn.ensemble import RandomForestClassifier\n",
    "from sklearn.model_selection import cross_val_score\n",
    "\n",
    "baseline = RandomForestClassifier(n_estimators=150, max_depth=5)\n",
    "scores = cross_val_score(baseline, X_train, y_train, scoring='roc_auc', cv=5)\n",
    "\n",
    "print(scores.mean())"
   ]
  },
  {
   "cell_type": "code",
   "execution_count": 10,
   "metadata": {},
   "outputs": [],
   "source": [
    "#Xgboost hyperopt\n",
    "import xgboost as xgb\n",
    "from sklearn.model_selection import cross_val_score\n",
    "from hyperopt import fmin, tpe, hp, Trials, STATUS_OK, space_eval\n",
    "\n",
    "def hyperopt_train(params):\n",
    "    model = xgb.XGBClassifier(**params)\n",
    "    return -1 * cross_val_score(model, X_train, y_train, scoring=\"roc_auc\", n_jobs=-1, cv=5).mean()\n",
    "\n",
    "best = 0\n",
    "def objective(params):\n",
    "    global best\n",
    "    auc = hyperopt_train(params)\n",
    "    if auc < best:\n",
    "        best = auc\n",
    "        print('new best: ', best)\n",
    "    return {'loss': auc, 'status': STATUS_OK}"
   ]
  },
  {
   "cell_type": "code",
   "execution_count": 11,
   "metadata": {},
   "outputs": [
    {
     "name": "stdout",
     "output_type": "stream",
     "text": [
      "new best:                                                                                                              \n",
      "-0.8981786626181268                                                                                                    \n",
      "new best:                                                                                                              \n",
      "-0.8997173238889313                                                                                                    \n",
      "new best:                                                                                                              \n",
      "-0.8998839409018352                                                                                                    \n",
      "new best:                                                                                                              \n",
      "-0.9013248799773912                                                                                                    \n",
      "new best:                                                                                                              \n",
      "-0.9016929680446326                                                                                                    \n",
      "new best:                                                                                                              \n",
      "-0.9026677319469056                                                                                                    \n",
      "100%|█████████████████████████████████████████████| 100/100 [03:23<00:00,  2.04s/trial, best loss: -0.9026677319469056]\n",
      "Best Params:  {'colsample_bytree': 0.5, 'gamma': 0.17, 'max_depth': 9, 'min_child_weight': 1, 'random_seed': 42, 'subsample': 0.8253286622668464, 'tree_method': 'gpu_hist'}\n",
      "Best RMSE:  -0.9026677319469056\n",
      "Wall time: 3min 23s\n"
     ]
    }
   ],
   "source": [
    "%%time\n",
    "space = {\n",
    "#     'n_estimators': hp.choice('n_estimators', range(10, 500)),\n",
    "    'max_depth': hp.choice('max_depth', range(1, 10)),\n",
    "    'gamma': hp.quniform('gamma', 0, 0.5, 0.01),\n",
    "    'min_child_weight': hp.choice('min_child_weight', np.arange(1, 8, 1, dtype=int)),\n",
    "    'colsample_bytree': hp.choice('colsample_bytree', np.arange(0.3, 0.8, 0.1)),\n",
    "    'subsample': hp.uniform('subsample', 0.8, 1),\n",
    "    'tree_method': 'gpu_hist',\n",
    "    'random_seed': 42\n",
    "}\n",
    "\n",
    "trials = Trials()\n",
    "best_params = fmin(fn=objective,\n",
    "            space=space,\n",
    "            algo=tpe.suggest,\n",
    "            max_evals=100,\n",
    "            trials=trials\n",
    "           )\n",
    "params = space_eval(space, trials.argmin)\n",
    "print(\"Best Params: \", params)\n",
    "print(\"Best RMSE: \", best)"
   ]
  },
  {
   "cell_type": "code",
   "execution_count": 12,
   "metadata": {},
   "outputs": [],
   "source": [
    "test = test.drop(['city', 'enrolled_university', 'gender', \"major_discipline\", \"company_type\"], axis=1)\n",
    "clean_test = encode(test)\n",
    "clean_test = impute(test)\n",
    "X_test = clean_test.drop(['enrollee_id', 'target'], axis=1)\n",
    "y_test = clean_test.target"
   ]
  },
  {
   "cell_type": "code",
   "execution_count": 13,
   "metadata": {},
   "outputs": [
    {
     "name": "stdout",
     "output_type": "stream",
     "text": [
      "[18:16:20] WARNING: C:/Users/Administrator/workspace/xgboost-win64_release_1.3.0/src/learner.cc:541: \n",
      "Parameters: { random_seed } might not be used.\n",
      "\n",
      "  This may not be accurate due to some parameters are only used in language bindings but\n",
      "  passed down to XGBoost core.  Or some parameters are not used but slip through this\n",
      "  verification. Please open an issue if you find above cases.\n",
      "\n",
      "\n"
     ]
    },
    {
     "name": "stderr",
     "output_type": "stream",
     "text": [
      "C:\\Users\\tresyap\\Anaconda3\\lib\\site-packages\\xgboost\\sklearn.py:888: UserWarning: The use of label encoder in XGBClassifier is deprecated and will be removed in a future release. To remove this warning, do the following: 1) Pass option use_label_encoder=False when constructing XGBClassifier object; and 2) Encode your labels (y) as integers starting with 0, i.e. 0, 1, 2, ..., [num_class - 1].\n",
      "  warnings.warn(label_encoder_deprecation_msg, UserWarning)\n"
     ]
    },
    {
     "name": "stdout",
     "output_type": "stream",
     "text": [
      "[18:16:20] WARNING: C:/Users/Administrator/workspace/xgboost-win64_release_1.3.0/src/learner.cc:1061: Starting in XGBoost 1.3.0, the default evaluation metric used with the objective 'binary:logistic' was changed from 'error' to 'logloss'. Explicitly set eval_metric if you'd like to restore the old behavior.\n"
     ]
    }
   ],
   "source": [
    "from sklearn.metrics import confusion_matrix\n",
    "\n",
    "model = xgb.XGBClassifier(**params)\n",
    "# model = RandomForestClassifier(n_estimators=150, max_depth=5)\n",
    "model.fit(X_train, y_train)\n",
    "preds = model.predict(X_test)\n",
    "probs = model.predict_proba(X_test)\n",
    "tn, fp, fn, tp = confusion_matrix(y_test, preds).ravel()"
   ]
  },
  {
   "cell_type": "code",
   "execution_count": 14,
   "metadata": {},
   "outputs": [
    {
     "data": {
      "text/plain": [
       "(2367, 513, 460, 492)"
      ]
     },
     "execution_count": 14,
     "metadata": {},
     "output_type": "execute_result"
    }
   ],
   "source": [
    "tn, fp, fn, tp"
   ]
  },
  {
   "cell_type": "code",
   "execution_count": 15,
   "metadata": {},
   "outputs": [
    {
     "data": {
      "text/plain": [
       "0.5168067226890757"
      ]
     },
     "execution_count": 15,
     "metadata": {},
     "output_type": "execute_result"
    }
   ],
   "source": [
    "tp / (tp + fn)"
   ]
  },
  {
   "cell_type": "code",
   "execution_count": 16,
   "metadata": {},
   "outputs": [
    {
     "data": {
      "text/plain": [
       "0.48955223880597015"
      ]
     },
     "execution_count": 16,
     "metadata": {},
     "output_type": "execute_result"
    }
   ],
   "source": [
    "tp / (tp + fp)"
   ]
  },
  {
   "cell_type": "code",
   "execution_count": 17,
   "metadata": {},
   "outputs": [],
   "source": [
    "evals = [prob[1] for prob in probs]"
   ]
  },
  {
   "cell_type": "code",
   "execution_count": 18,
   "metadata": {},
   "outputs": [
    {
     "data": {
      "image/png": "[encoded data removed]",
      "text/plain": [
       "<Figure size 432x288 with 1 Axes>"
      ]
     },
     "metadata": {
      "needs_background": "light"
     },
     "output_type": "display_data"
    }
   ],
   "source": [
    "import matplotlib.pyplot as plt  \n",
    "from sklearn.metrics import roc_curve, auc  \n",
    "\n",
    "fpr, tpr, threshold = roc_curve(y_test, evals)\n",
    "roc_auc = auc(fpr, tpr)\n",
    "\n",
    "plt.title('Receiver Operating Characteristic')\n",
    "plt.plot(fpr, tpr, 'b', label = 'AUC = %0.2f' % roc_auc)\n",
    "plt.legend(loc = 'lower right')\n",
    "plt.plot([0, 1], [0, 1],'r--')\n",
    "plt.xlim([0, 1])\n",
    "plt.ylim([0, 1])\n",
    "plt.ylabel('True Positive Rate')\n",
    "plt.xlabel('False Positive Rate')\n",
    "plt.show()"
   ]
  }
 ],
 "metadata": {
  "kernelspec": {
   "display_name": "Python 3",
   "language": "python",
   "name": "python3"
  },
  "language_info": {
   "codemirror_mode": {
    "name": "ipython",
    "version": 3
   },
   "file_extension": ".py",
   "mimetype": "text/x-python",
   "name": "python",
   "nbconvert_exporter": "python",
   "pygments_lexer": "ipython3",
   "version": "3.7.4"
  }
 },
 "nbformat": 4,
 "nbformat_minor": 4
}
